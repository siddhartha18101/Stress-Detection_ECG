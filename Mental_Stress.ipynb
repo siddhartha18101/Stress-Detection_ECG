{
  "nbformat": 4,
  "nbformat_minor": 0,
  "metadata": {
    "colab": {
      "name": "Mental_Stress.ipynb",
      "provenance": [],
      "mount_file_id": "1BZsCwokoCgFv0b9MPSe_emcdK7St1ErL",
      "authorship_tag": "ABX9TyPhsypT00BW1y2AZNQOef11",
      "include_colab_link": true
    },
    "kernelspec": {
      "name": "python3",
      "display_name": "Python 3"
    }
  },
  "cells": [
    {
      "cell_type": "markdown",
      "metadata": {
        "id": "view-in-github",
        "colab_type": "text"
      },
      "source": [
        "<a href=\"https://colab.research.google.com/github/siddhartha18101/Stress-Detection_ECG/blob/master/Mental_Stress.ipynb\" target=\"_parent\"><img src=\"https://colab.research.google.com/assets/colab-badge.svg\" alt=\"Open In Colab\"/></a>"
      ]
    },
    {
      "cell_type": "code",
      "metadata": {
        "id": "gA0tnuwFV6ni",
        "colab_type": "code",
        "colab": {
          "base_uri": "https://localhost:8080/",
          "height": 35
        },
        "outputId": "931b4c76-5880-4d22-e972-f7468fbeb890"
      },
      "source": [
        "%cd '/content/drive/My Drive/Minor_1'"
      ],
      "execution_count": null,
      "outputs": [
        {
          "output_type": "stream",
          "text": [
            "/content/drive/My Drive/Minor_1\n"
          ],
          "name": "stdout"
        }
      ]
    },
    {
      "cell_type": "code",
      "metadata": {
        "id": "SXWYppgzWfS0",
        "colab_type": "code",
        "colab": {
          "base_uri": "https://localhost:8080/",
          "height": 35
        },
        "outputId": "570228d1-c61d-4ecd-91a5-73977957122e"
      },
      "source": [
        "!ls"
      ],
      "execution_count": null,
      "outputs": [
        {
          "output_type": "stream",
          "text": [
            "check  final_model1  MatData3  Mental_Stress.ipynb  WESAD  WESAD.zip\n"
          ],
          "name": "stdout"
        }
      ]
    },
    {
      "cell_type": "code",
      "metadata": {
        "id": "JyrGYkH3e7db",
        "colab_type": "code",
        "colab": {
          "base_uri": "https://localhost:8080/",
          "height": 676
        },
        "outputId": "7aa2aaa1-bd2f-438f-816a-76e17eaa04e9"
      },
      "source": [
        "!pip install emd"
      ],
      "execution_count": null,
      "outputs": [
        {
          "output_type": "stream",
          "text": [
            "Collecting emd\n",
            "\u001b[?25l  Downloading https://files.pythonhosted.org/packages/a7/ee/09aa92e019f1b0c828af6907b9cce057c50fe50a459ecf174937d05f73cb/emd-0.2.0-py3-none-any.whl (42kB)\n",
            "\r\u001b[K     |███████▋                        | 10kB 17.2MB/s eta 0:00:01\r\u001b[K     |███████████████▎                | 20kB 2.8MB/s eta 0:00:01\r\u001b[K     |███████████████████████         | 30kB 3.3MB/s eta 0:00:01\r\u001b[K     |██████████████████████████████▋ | 40kB 3.9MB/s eta 0:00:01\r\u001b[K     |████████████████████████████████| 51kB 2.3MB/s \n",
            "\u001b[?25hRequirement already satisfied: numpy in /usr/local/lib/python3.6/dist-packages (from emd) (1.18.5)\n",
            "Requirement already satisfied: matplotlib in /usr/local/lib/python3.6/dist-packages (from emd) (3.2.2)\n",
            "Requirement already satisfied: scipy in /usr/local/lib/python3.6/dist-packages (from emd) (1.4.1)\n",
            "Collecting sphinx-rtd-theme\n",
            "\u001b[?25l  Downloading https://files.pythonhosted.org/packages/c3/86/1addf25a238bbd8466bb099f23d9a9f13494b22b37b44f6c41a778b8730f/sphinx_rtd_theme-0.5.0-py2.py3-none-any.whl (10.8MB)\n",
            "\u001b[K     |████████████████████████████████| 10.8MB 9.8MB/s \n",
            "\u001b[?25hCollecting numpydoc\n",
            "\u001b[?25l  Downloading https://files.pythonhosted.org/packages/60/1d/9e398c53d6ae27d5ab312ddc16a9ffe1bee0dfdf1d6ec88c40b0ca97582e/numpydoc-1.1.0-py3-none-any.whl (47kB)\n",
            "\u001b[K     |████████████████████████████████| 51kB 6.1MB/s \n",
            "\u001b[?25hRequirement already satisfied: kiwisolver>=1.0.1 in /usr/local/lib/python3.6/dist-packages (from matplotlib->emd) (1.2.0)\n",
            "Requirement already satisfied: cycler>=0.10 in /usr/local/lib/python3.6/dist-packages (from matplotlib->emd) (0.10.0)\n",
            "Requirement already satisfied: python-dateutil>=2.1 in /usr/local/lib/python3.6/dist-packages (from matplotlib->emd) (2.8.1)\n",
            "Requirement already satisfied: pyparsing!=2.0.4,!=2.1.2,!=2.1.6,>=2.0.1 in /usr/local/lib/python3.6/dist-packages (from matplotlib->emd) (2.4.7)\n",
            "Requirement already satisfied: sphinx in /usr/local/lib/python3.6/dist-packages (from sphinx-rtd-theme->emd) (1.8.5)\n",
            "Requirement already satisfied: Jinja2>=2.3 in /usr/local/lib/python3.6/dist-packages (from numpydoc->emd) (2.11.2)\n",
            "Requirement already satisfied: six in /usr/local/lib/python3.6/dist-packages (from cycler>=0.10->matplotlib->emd) (1.12.0)\n",
            "Requirement already satisfied: setuptools in /usr/local/lib/python3.6/dist-packages (from sphinx->sphinx-rtd-theme->emd) (47.3.1)\n",
            "Requirement already satisfied: docutils>=0.11 in /usr/local/lib/python3.6/dist-packages (from sphinx->sphinx-rtd-theme->emd) (0.15.2)\n",
            "Requirement already satisfied: sphinxcontrib-websupport in /usr/local/lib/python3.6/dist-packages (from sphinx->sphinx-rtd-theme->emd) (1.2.2)\n",
            "Requirement already satisfied: Pygments>=2.0 in /usr/local/lib/python3.6/dist-packages (from sphinx->sphinx-rtd-theme->emd) (2.1.3)\n",
            "Requirement already satisfied: packaging in /usr/local/lib/python3.6/dist-packages (from sphinx->sphinx-rtd-theme->emd) (20.4)\n",
            "Requirement already satisfied: imagesize in /usr/local/lib/python3.6/dist-packages (from sphinx->sphinx-rtd-theme->emd) (1.2.0)\n",
            "Requirement already satisfied: alabaster<0.8,>=0.7 in /usr/local/lib/python3.6/dist-packages (from sphinx->sphinx-rtd-theme->emd) (0.7.12)\n",
            "Requirement already satisfied: requests>=2.0.0 in /usr/local/lib/python3.6/dist-packages (from sphinx->sphinx-rtd-theme->emd) (2.23.0)\n",
            "Requirement already satisfied: snowballstemmer>=1.1 in /usr/local/lib/python3.6/dist-packages (from sphinx->sphinx-rtd-theme->emd) (2.0.0)\n",
            "Requirement already satisfied: babel!=2.0,>=1.3 in /usr/local/lib/python3.6/dist-packages (from sphinx->sphinx-rtd-theme->emd) (2.8.0)\n",
            "Requirement already satisfied: MarkupSafe>=0.23 in /usr/local/lib/python3.6/dist-packages (from Jinja2>=2.3->numpydoc->emd) (1.1.1)\n",
            "Requirement already satisfied: chardet<4,>=3.0.2 in /usr/local/lib/python3.6/dist-packages (from requests>=2.0.0->sphinx->sphinx-rtd-theme->emd) (3.0.4)\n",
            "Requirement already satisfied: certifi>=2017.4.17 in /usr/local/lib/python3.6/dist-packages (from requests>=2.0.0->sphinx->sphinx-rtd-theme->emd) (2020.6.20)\n",
            "Requirement already satisfied: urllib3!=1.25.0,!=1.25.1,<1.26,>=1.21.1 in /usr/local/lib/python3.6/dist-packages (from requests>=2.0.0->sphinx->sphinx-rtd-theme->emd) (1.24.3)\n",
            "Requirement already satisfied: idna<3,>=2.5 in /usr/local/lib/python3.6/dist-packages (from requests>=2.0.0->sphinx->sphinx-rtd-theme->emd) (2.9)\n",
            "Requirement already satisfied: pytz>=2015.7 in /usr/local/lib/python3.6/dist-packages (from babel!=2.0,>=1.3->sphinx->sphinx-rtd-theme->emd) (2018.9)\n",
            "Installing collected packages: sphinx-rtd-theme, numpydoc, emd\n",
            "Successfully installed emd-0.2.0 numpydoc-1.1.0 sphinx-rtd-theme-0.5.0\n"
          ],
          "name": "stdout"
        }
      ]
    },
    {
      "cell_type": "code",
      "metadata": {
        "id": "1UHiEGPOWh9P",
        "colab_type": "code",
        "colab": {
          "base_uri": "https://localhost:8080/",
          "height": 1000
        },
        "outputId": "4673324a-26ac-4d21-b99b-843010e956ee"
      },
      "source": [
        "!pip install EMD-signal\n",
        "!pip install biosppy\n",
        "!pip install hurst\n",
        "!pip install sampen"
      ],
      "execution_count": null,
      "outputs": [
        {
          "output_type": "stream",
          "text": [
            "Collecting EMD-signal\n",
            "  Downloading https://files.pythonhosted.org/packages/bb/35/46fa4230b3a402dd1e39c070ca4d82289f7497ae1a3c223a462e8bf3206a/EMD_signal-0.2.10-py2.py3-none-any.whl\n",
            "Requirement already satisfied: numpydoc in /usr/local/lib/python3.6/dist-packages (from EMD-signal) (1.1.0)\n",
            "Requirement already satisfied: numpy>=1.12 in /usr/local/lib/python3.6/dist-packages (from EMD-signal) (1.18.5)\n",
            "Collecting pathos>=0.2.1\n",
            "\u001b[?25l  Downloading https://files.pythonhosted.org/packages/be/ea/b2cf3a6561fc5deb64de8ae0af5e3e4e2db03ca588cb7415efce4a8de26e/pathos-0.2.6.zip (219kB)\n",
            "\u001b[K     |████████████████████████████████| 225kB 12.9MB/s \n",
            "\u001b[?25hRequirement already satisfied: scipy>=0.19 in /usr/local/lib/python3.6/dist-packages (from EMD-signal) (1.4.1)\n",
            "Requirement already satisfied: Jinja2>=2.3 in /usr/local/lib/python3.6/dist-packages (from numpydoc->EMD-signal) (2.11.2)\n",
            "Requirement already satisfied: sphinx>=1.6.5 in /usr/local/lib/python3.6/dist-packages (from numpydoc->EMD-signal) (1.8.5)\n",
            "Collecting ppft>=1.6.6.2\n",
            "\u001b[?25l  Downloading https://files.pythonhosted.org/packages/2b/fb/fa21f6e9aedc4823448473ed96e8eab64af1cb248c18165f045a90e1c6b4/ppft-1.6.6.2.zip (106kB)\n",
            "\u001b[K     |████████████████████████████████| 112kB 43.8MB/s \n",
            "\u001b[?25hRequirement already satisfied: dill>=0.3.2 in /usr/local/lib/python3.6/dist-packages (from pathos>=0.2.1->EMD-signal) (0.3.2)\n",
            "Collecting pox>=0.2.8\n",
            "\u001b[?25l  Downloading https://files.pythonhosted.org/packages/1a/0c/ec447fb0ed88bc1c09bf0dadf00e40ea05fda17e841d15bb351a52d9e192/pox-0.2.8.zip (128kB)\n",
            "\u001b[K     |████████████████████████████████| 133kB 42.9MB/s \n",
            "\u001b[?25hRequirement already satisfied: multiprocess>=0.70.10 in /usr/local/lib/python3.6/dist-packages (from pathos>=0.2.1->EMD-signal) (0.70.10)\n",
            "Requirement already satisfied: MarkupSafe>=0.23 in /usr/local/lib/python3.6/dist-packages (from Jinja2>=2.3->numpydoc->EMD-signal) (1.1.1)\n",
            "Requirement already satisfied: six>=1.5 in /usr/local/lib/python3.6/dist-packages (from sphinx>=1.6.5->numpydoc->EMD-signal) (1.12.0)\n",
            "Requirement already satisfied: requests>=2.0.0 in /usr/local/lib/python3.6/dist-packages (from sphinx>=1.6.5->numpydoc->EMD-signal) (2.23.0)\n",
            "Requirement already satisfied: Pygments>=2.0 in /usr/local/lib/python3.6/dist-packages (from sphinx>=1.6.5->numpydoc->EMD-signal) (2.1.3)\n",
            "Requirement already satisfied: docutils>=0.11 in /usr/local/lib/python3.6/dist-packages (from sphinx>=1.6.5->numpydoc->EMD-signal) (0.15.2)\n",
            "Requirement already satisfied: alabaster<0.8,>=0.7 in /usr/local/lib/python3.6/dist-packages (from sphinx>=1.6.5->numpydoc->EMD-signal) (0.7.12)\n",
            "Requirement already satisfied: setuptools in /usr/local/lib/python3.6/dist-packages (from sphinx>=1.6.5->numpydoc->EMD-signal) (47.3.1)\n",
            "Requirement already satisfied: snowballstemmer>=1.1 in /usr/local/lib/python3.6/dist-packages (from sphinx>=1.6.5->numpydoc->EMD-signal) (2.0.0)\n",
            "Requirement already satisfied: packaging in /usr/local/lib/python3.6/dist-packages (from sphinx>=1.6.5->numpydoc->EMD-signal) (20.4)\n",
            "Requirement already satisfied: babel!=2.0,>=1.3 in /usr/local/lib/python3.6/dist-packages (from sphinx>=1.6.5->numpydoc->EMD-signal) (2.8.0)\n",
            "Requirement already satisfied: imagesize in /usr/local/lib/python3.6/dist-packages (from sphinx>=1.6.5->numpydoc->EMD-signal) (1.2.0)\n",
            "Requirement already satisfied: sphinxcontrib-websupport in /usr/local/lib/python3.6/dist-packages (from sphinx>=1.6.5->numpydoc->EMD-signal) (1.2.2)\n",
            "Requirement already satisfied: urllib3!=1.25.0,!=1.25.1,<1.26,>=1.21.1 in /usr/local/lib/python3.6/dist-packages (from requests>=2.0.0->sphinx>=1.6.5->numpydoc->EMD-signal) (1.24.3)\n",
            "Requirement already satisfied: chardet<4,>=3.0.2 in /usr/local/lib/python3.6/dist-packages (from requests>=2.0.0->sphinx>=1.6.5->numpydoc->EMD-signal) (3.0.4)\n",
            "Requirement already satisfied: certifi>=2017.4.17 in /usr/local/lib/python3.6/dist-packages (from requests>=2.0.0->sphinx>=1.6.5->numpydoc->EMD-signal) (2020.6.20)\n",
            "Requirement already satisfied: idna<3,>=2.5 in /usr/local/lib/python3.6/dist-packages (from requests>=2.0.0->sphinx>=1.6.5->numpydoc->EMD-signal) (2.9)\n",
            "Requirement already satisfied: pyparsing>=2.0.2 in /usr/local/lib/python3.6/dist-packages (from packaging->sphinx>=1.6.5->numpydoc->EMD-signal) (2.4.7)\n",
            "Requirement already satisfied: pytz>=2015.7 in /usr/local/lib/python3.6/dist-packages (from babel!=2.0,>=1.3->sphinx>=1.6.5->numpydoc->EMD-signal) (2018.9)\n",
            "Building wheels for collected packages: pathos, ppft, pox\n",
            "  Building wheel for pathos (setup.py) ... \u001b[?25l\u001b[?25hdone\n",
            "  Created wheel for pathos: filename=pathos-0.2.6-cp36-none-any.whl size=77673 sha256=397c06810bcb706898975238e4a1a496c435489a8054fc18bd9f62e3d109b6b2\n",
            "  Stored in directory: /root/.cache/pip/wheels/3a/e8/c8/04cdd0c4bc6fbce35f642fc004244228916daae74bb0f482da\n",
            "  Building wheel for ppft (setup.py) ... \u001b[?25l\u001b[?25hdone\n",
            "  Created wheel for ppft: filename=ppft-1.6.6.2-cp36-none-any.whl size=64743 sha256=b27912678eb3945b65bd412620e938fad3e4e6845900ba010a73cad084ce6317\n",
            "  Stored in directory: /root/.cache/pip/wheels/db/d2/2d/0ee21ede61786bb13247dbc69079373fd500c2bb0481913084\n",
            "  Building wheel for pox (setup.py) ... \u001b[?25l\u001b[?25hdone\n",
            "  Created wheel for pox: filename=pox-0.2.8-cp36-none-any.whl size=28290 sha256=9e8d24e9d4d825bdbc70f68c6fde8f179bd5200e38968ca9ed86aa1dcc1c0349\n",
            "  Stored in directory: /root/.cache/pip/wheels/39/ed/ce/a93103746b327e18bffaeb99ba0d57a88b392f31d719cea700\n",
            "Successfully built pathos ppft pox\n",
            "Installing collected packages: ppft, pox, pathos, EMD-signal\n",
            "Successfully installed EMD-signal-0.2.10 pathos-0.2.6 pox-0.2.8 ppft-1.6.6.2\n",
            "Collecting biosppy\n",
            "\u001b[?25l  Downloading https://files.pythonhosted.org/packages/b7/60/d09a277f9d31a2fc9190edf7e8a685c4f9b54b5dff487f523b916f441e1a/biosppy-0.6.1-py2.py3-none-any.whl (76kB)\n",
            "\u001b[K     |████████████████████████████████| 81kB 3.1MB/s \n",
            "\u001b[?25hRequirement already satisfied: six in /usr/local/lib/python3.6/dist-packages (from biosppy) (1.12.0)\n",
            "Requirement already satisfied: h5py in /usr/local/lib/python3.6/dist-packages (from biosppy) (2.10.0)\n",
            "Requirement already satisfied: scikit-learn in /usr/local/lib/python3.6/dist-packages (from biosppy) (0.22.2.post1)\n",
            "Requirement already satisfied: numpy in /usr/local/lib/python3.6/dist-packages (from biosppy) (1.18.5)\n",
            "Collecting bidict\n",
            "  Downloading https://files.pythonhosted.org/packages/50/fe/5a4abf8cc66616c8afe3b57e0cbdfe25e0e2507618b68fd747d221e1525f/bidict-0.19.0-py2.py3-none-any.whl\n",
            "Collecting shortuuid\n",
            "  Downloading https://files.pythonhosted.org/packages/25/a6/2ecc1daa6a304e7f1b216f0896b26156b78e7c38e1211e9b798b4716c53d/shortuuid-1.0.1-py3-none-any.whl\n",
            "Requirement already satisfied: scipy in /usr/local/lib/python3.6/dist-packages (from biosppy) (1.4.1)\n",
            "Requirement already satisfied: matplotlib in /usr/local/lib/python3.6/dist-packages (from biosppy) (3.2.2)\n",
            "Requirement already satisfied: joblib>=0.11 in /usr/local/lib/python3.6/dist-packages (from scikit-learn->biosppy) (0.15.1)\n",
            "Requirement already satisfied: cycler>=0.10 in /usr/local/lib/python3.6/dist-packages (from matplotlib->biosppy) (0.10.0)\n",
            "Requirement already satisfied: kiwisolver>=1.0.1 in /usr/local/lib/python3.6/dist-packages (from matplotlib->biosppy) (1.2.0)\n",
            "Requirement already satisfied: pyparsing!=2.0.4,!=2.1.2,!=2.1.6,>=2.0.1 in /usr/local/lib/python3.6/dist-packages (from matplotlib->biosppy) (2.4.7)\n",
            "Requirement already satisfied: python-dateutil>=2.1 in /usr/local/lib/python3.6/dist-packages (from matplotlib->biosppy) (2.8.1)\n",
            "Installing collected packages: bidict, shortuuid, biosppy\n",
            "Successfully installed bidict-0.19.0 biosppy-0.6.1 shortuuid-1.0.1\n",
            "Collecting hurst\n",
            "  Downloading https://files.pythonhosted.org/packages/02/4f/d3471ce0dca03a21d4c6640da07a6040c9cc800a937233086b6cea6a7dc2/hurst-0.0.5-py3-none-any.whl\n",
            "Requirement already satisfied: pandas>=0.18 in /usr/local/lib/python3.6/dist-packages (from hurst) (1.0.5)\n",
            "Requirement already satisfied: numpy>=1.10 in /usr/local/lib/python3.6/dist-packages (from hurst) (1.18.5)\n",
            "Requirement already satisfied: python-dateutil>=2.6.1 in /usr/local/lib/python3.6/dist-packages (from pandas>=0.18->hurst) (2.8.1)\n",
            "Requirement already satisfied: pytz>=2017.2 in /usr/local/lib/python3.6/dist-packages (from pandas>=0.18->hurst) (2018.9)\n",
            "Requirement already satisfied: six>=1.5 in /usr/local/lib/python3.6/dist-packages (from python-dateutil>=2.6.1->pandas>=0.18->hurst) (1.12.0)\n",
            "Installing collected packages: hurst\n",
            "Successfully installed hurst-0.0.5\n",
            "Collecting sampen\n",
            "  Downloading https://files.pythonhosted.org/packages/e2/af/c3d1a9a392e8cd6ced1d3137921532e69cd2ba75d9103c32e906c0e4b0cf/sampen-0.0.17-py2.py3-none-any.whl\n",
            "Requirement already satisfied: numpy>=1.9.2 in /usr/local/lib/python3.6/dist-packages (from sampen) (1.18.5)\n",
            "Installing collected packages: sampen\n",
            "Successfully installed sampen-0.0.17\n"
          ],
          "name": "stdout"
        }
      ]
    },
    {
      "cell_type": "code",
      "metadata": {
        "id": "NXu3A5B_W5Qn",
        "colab_type": "code",
        "colab": {}
      },
      "source": [
        "\n",
        "import os\n",
        "import numpy as np\n",
        "import pandas as pd\n",
        "import scipy.signal\n",
        "import matplotlib.pyplot as plt\n",
        "from biosppy.signals import ecg\n",
        "from PyEMD import EMD\n",
        "import emd\n",
        "import pickle\n",
        "import torch\n",
        "import torch\n",
        "import torch.nn.functional as F\n",
        "import torch.nn as nn\n",
        "import sys\n",
        "from torch.autograd import Variable\n",
        "import math\n",
        "import glob\n",
        "import scipy.io as sio\n",
        "from hurst import compute_Hc\n",
        "from sampen import sampen2\n",
        "\n",
        "\n",
        "%matplotlib inline"
      ],
      "execution_count": null,
      "outputs": []
    },
    {
      "cell_type": "code",
      "metadata": {
        "id": "a_ywQyKieiFN",
        "colab_type": "code",
        "colab": {
          "base_uri": "https://localhost:8080/",
          "height": 294
        },
        "outputId": "684212a3-87d1-40fc-bf8d-2fbb902d30f7"
      },
      "source": [
        "files = glob.glob('/content/drive/My Drive/Minor_1/WESAD/*')\n",
        "files"
      ],
      "execution_count": null,
      "outputs": [
        {
          "output_type": "execute_result",
          "data": {
            "text/plain": [
              "['/content/drive/My Drive/Minor_1/WESAD/wesad_readme.pdf',\n",
              " '/content/drive/My Drive/Minor_1/WESAD/S10',\n",
              " '/content/drive/My Drive/Minor_1/WESAD/S11',\n",
              " '/content/drive/My Drive/Minor_1/WESAD/S13',\n",
              " '/content/drive/My Drive/Minor_1/WESAD/S14',\n",
              " '/content/drive/My Drive/Minor_1/WESAD/S15',\n",
              " '/content/drive/My Drive/Minor_1/WESAD/S16',\n",
              " '/content/drive/My Drive/Minor_1/WESAD/S17',\n",
              " '/content/drive/My Drive/Minor_1/WESAD/S2',\n",
              " '/content/drive/My Drive/Minor_1/WESAD/S3',\n",
              " '/content/drive/My Drive/Minor_1/WESAD/S4',\n",
              " '/content/drive/My Drive/Minor_1/WESAD/S5',\n",
              " '/content/drive/My Drive/Minor_1/WESAD/S6',\n",
              " '/content/drive/My Drive/Minor_1/WESAD/S7',\n",
              " '/content/drive/My Drive/Minor_1/WESAD/S8',\n",
              " '/content/drive/My Drive/Minor_1/WESAD/S9']"
            ]
          },
          "metadata": {
            "tags": []
          },
          "execution_count": 6
        }
      ]
    },
    {
      "cell_type": "code",
      "metadata": {
        "id": "Z3PJqhovsTm5",
        "colab_type": "code",
        "colab": {
          "base_uri": "https://localhost:8080/",
          "height": 345
        },
        "outputId": "c4118a33-9263-4c07-e21c-18c4afcc00a7"
      },
      "source": [
        "!mkdir MatData3\n",
        "%cd /content/drive/My Drive/Minor_1/MatData3\n",
        "!mkdir Normal\n",
        "!mkdir Stress\n",
        "import glob\n",
        "import scipy.io as sio\n",
        "files = glob.glob('/content/drive/My Drive/Minor_1/WESAD/*')\n",
        "files.remove(files[0])\n",
        "files"
      ],
      "execution_count": null,
      "outputs": [
        {
          "output_type": "stream",
          "text": [
            "mkdir: cannot create directory ‘MatData3’: File exists\n",
            "/content/drive/My Drive/Minor_1/MatData3\n",
            "mkdir: cannot create directory ‘Normal’: File exists\n",
            "mkdir: cannot create directory ‘Stress’: File exists\n"
          ],
          "name": "stdout"
        },
        {
          "output_type": "execute_result",
          "data": {
            "text/plain": [
              "['/content/drive/My Drive/Minor_1/WESAD/S10',\n",
              " '/content/drive/My Drive/Minor_1/WESAD/S11',\n",
              " '/content/drive/My Drive/Minor_1/WESAD/S13',\n",
              " '/content/drive/My Drive/Minor_1/WESAD/S14',\n",
              " '/content/drive/My Drive/Minor_1/WESAD/S15',\n",
              " '/content/drive/My Drive/Minor_1/WESAD/S16',\n",
              " '/content/drive/My Drive/Minor_1/WESAD/S17',\n",
              " '/content/drive/My Drive/Minor_1/WESAD/S2',\n",
              " '/content/drive/My Drive/Minor_1/WESAD/S3',\n",
              " '/content/drive/My Drive/Minor_1/WESAD/S4',\n",
              " '/content/drive/My Drive/Minor_1/WESAD/S5',\n",
              " '/content/drive/My Drive/Minor_1/WESAD/S6',\n",
              " '/content/drive/My Drive/Minor_1/WESAD/S7',\n",
              " '/content/drive/My Drive/Minor_1/WESAD/S8',\n",
              " '/content/drive/My Drive/Minor_1/WESAD/S9']"
            ]
          },
          "metadata": {
            "tags": []
          },
          "execution_count": 7
        }
      ]
    },
    {
      "cell_type": "code",
      "metadata": {
        "id": "RbPhPjteec40",
        "colab_type": "code",
        "colab": {}
      },
      "source": [
        "\n",
        "# for x in files[7:]:\n",
        "#   filename = x + '/S' + x[-1:] + '.pkl'\n",
        "#   data_dict = open( filename, 'rb')\n",
        "#   data1 = pickle.load(data_dict, encoding='latin1')\n",
        "#   data = data1['signal']['chest']['ECG']\n",
        "#   # data = ((data/(2^16))-0.5)*(3/1000)\n",
        "#   data = np.ravel(data)\n",
        "#   out = ecg.ecg(signal=data, sampling_rate=700., show=False)\n",
        "#   length = len(out['filtered'])\n",
        "#   k = round(length/5000)\n",
        "#   a = 0\n",
        "#   for i in range(1,k):\n",
        "#     y = 5000*(i)\n",
        "#     p = set(data1['label'][a:y])\n",
        "#     if (p == {1}):\n",
        "#       %cd Normal \n",
        "#       data = out['filtered'][a:y]\n",
        "#       name = 'S'+ x[-1] +'norm'+str(i)+'.mat'\n",
        "#       sio.savemat(name, {'data' :data} )\n",
        "#       %cd ..\n",
        "#     if (p == {2}):\n",
        "#       %cd Stress\n",
        "#       data = out['filtered'][a:y]\n",
        "#       name = 'S' + x[-1]+'stress' + str(i) +'.mat'\n",
        "#       sio.savemat(name, {'data' :data})\n",
        "#       %cd ..\n",
        "#     a = y"
      ],
      "execution_count": null,
      "outputs": []
    },
    {
      "cell_type": "code",
      "metadata": {
        "id": "FwPmrzXhYzc4",
        "colab_type": "code",
        "colab": {
          "base_uri": "https://localhost:8080/",
          "height": 35
        },
        "outputId": "a1ee160a-4589-414f-910d-3baacd338a4b"
      },
      "source": [
        "normal_files = glob.glob('/content/drive/My Drive/Minor_1/MatData3/Normal/*')\n",
        "stress_files = glob.glob('/content/drive/My Drive/Minor_1/MatData3/Stress/*')\n",
        "file_to_label = {}\n",
        "for x in normal_files:\n",
        "  file_to_label[x] = torch.tensor([0,1], dtype=torch.float32 )\n",
        "for x in stress_files:\n",
        "  file_to_label[x] = torch.tensor([1,0], dtype=torch.float32)\n",
        "\n",
        "len(stress_files)"
      ],
      "execution_count": null,
      "outputs": [
        {
          "output_type": "execute_result",
          "data": {
            "text/plain": [
              "1226"
            ]
          },
          "metadata": {
            "tags": []
          },
          "execution_count": 47
        }
      ]
    },
    {
      "cell_type": "code",
      "metadata": {
        "id": "f31jTix_GAr2",
        "colab_type": "code",
        "colab": {
          "base_uri": "https://localhost:8080/",
          "height": 35
        },
        "outputId": "7f45bfc3-7a3d-4629-f27d-813da95906fc"
      },
      "source": [
        "len(normal_files)"
      ],
      "execution_count": null,
      "outputs": [
        {
          "output_type": "execute_result",
          "data": {
            "text/plain": [
              "1805"
            ]
          },
          "metadata": {
            "tags": []
          },
          "execution_count": 8
        }
      ]
    },
    {
      "cell_type": "code",
      "metadata": {
        "id": "S8UuMzmtczCY",
        "colab_type": "code",
        "colab": {
          "base_uri": "https://localhost:8080/",
          "height": 35
        },
        "outputId": "d6fdad13-7fd5-4a41-97b5-7e33d80f3998"
      },
      "source": [
        "len(stress_files)"
      ],
      "execution_count": null,
      "outputs": [
        {
          "output_type": "execute_result",
          "data": {
            "text/plain": [
              "1226"
            ]
          },
          "metadata": {
            "tags": []
          },
          "execution_count": 9
        }
      ]
    },
    {
      "cell_type": "code",
      "metadata": {
        "id": "l7I1OFv3aBnx",
        "colab_type": "code",
        "colab": {}
      },
      "source": [
        "import random \n",
        "random.shuffle(normal_files)\n",
        "random.shuffle(stress_files)\n",
        "train_files = normal_files[0:1000] + stress_files[0:1000]\n",
        "test_files = normal_files[1000:1220] + stress_files[1000:1220]\n",
        "random.shuffle(train_files)\n",
        "random.shuffle(test_files)"
      ],
      "execution_count": null,
      "outputs": []
    },
    {
      "cell_type": "code",
      "metadata": {
        "id": "7Dyf4AOfc3Sm",
        "colab_type": "code",
        "colab": {
          "base_uri": "https://localhost:8080/",
          "height": 35
        },
        "outputId": "6ae3767d-b611-492c-a56c-774dcf306fb7"
      },
      "source": [
        "len(test_files)"
      ],
      "execution_count": null,
      "outputs": [
        {
          "output_type": "execute_result",
          "data": {
            "text/plain": [
              "440"
            ]
          },
          "metadata": {
            "tags": []
          },
          "execution_count": 12
        }
      ]
    },
    {
      "cell_type": "code",
      "metadata": {
        "id": "r4E3rgrp3CxC",
        "colab_type": "code",
        "colab": {
          "base_uri": "https://localhost:8080/",
          "height": 35
        },
        "outputId": "52d1fbe1-f0df-4948-9970-e06309e8e9a4"
      },
      "source": [
        "len(train_files)"
      ],
      "execution_count": null,
      "outputs": [
        {
          "output_type": "execute_result",
          "data": {
            "text/plain": [
              "2000"
            ]
          },
          "metadata": {
            "tags": []
          },
          "execution_count": 13
        }
      ]
    },
    {
      "cell_type": "code",
      "metadata": {
        "id": "7XujNzYuwewk",
        "colab_type": "code",
        "colab": {}
      },
      "source": [
        "data = sio.loadmat(train_files[0])['data']\n",
        "step = 1/700\n",
        "# time = np.arange(0,500*step, step )\n",
        "# time = time.reshape((500,-1))\n",
        "data = np.transpose(data)\n",
        "\n",
        "imfs = emd.sift.sift(data)\n",
        "\n"
      ],
      "execution_count": null,
      "outputs": []
    },
    {
      "cell_type": "code",
      "metadata": {
        "id": "BWr3nEYBlJw-",
        "colab_type": "code",
        "colab": {
          "base_uri": "https://localhost:8080/",
          "height": 35
        },
        "outputId": "18e7cf04-2277-4193-fde8-ab63e6defd0e"
      },
      "source": [
        "imfs[:,0].shape"
      ],
      "execution_count": null,
      "outputs": [
        {
          "output_type": "execute_result",
          "data": {
            "text/plain": [
              "(5000,)"
            ]
          },
          "metadata": {
            "tags": []
          },
          "execution_count": 12
        }
      ]
    },
    {
      "cell_type": "code",
      "metadata": {
        "id": "EQqZtuedweuY",
        "colab_type": "code",
        "colab": {}
      },
      "source": [
        "H, c, data1 = compute_Hc(data, kind='change', simplified=True )"
      ],
      "execution_count": null,
      "outputs": []
    },
    {
      "cell_type": "code",
      "metadata": {
        "id": "_Pqmq5SrweoE",
        "colab_type": "code",
        "colab": {}
      },
      "source": [
        "sampentropy = sampen2(data)"
      ],
      "execution_count": null,
      "outputs": []
    },
    {
      "cell_type": "code",
      "metadata": {
        "id": "cMzBrN6Rwel4",
        "colab_type": "code",
        "colab": {
          "base_uri": "https://localhost:8080/",
          "height": 35
        },
        "outputId": "2c75c947-14ad-4572-dd14-e281fa8f207a"
      },
      "source": [
        "sampentropy[-1][1]"
      ],
      "execution_count": null,
      "outputs": [
        {
          "output_type": "execute_result",
          "data": {
            "text/plain": [
              "0.004654247875718569"
            ]
          },
          "metadata": {
            "tags": []
          },
          "execution_count": 14
        }
      ]
    },
    {
      "cell_type": "code",
      "metadata": {
        "id": "3F6KP3O9Ol3e",
        "colab_type": "code",
        "colab": {}
      },
      "source": [
        "\n",
        "class Stress_Model(nn.Module):\n",
        "    def __init__(self):\n",
        "          super(Stress_Model, self).__init__()\n",
        "\n",
        "          self.conv1 = nn.Sequential(\n",
        "            nn.Conv1d (1, 32, 32, 2 ),\n",
        "            nn.BatchNorm1d(32),\n",
        "            nn.MaxPool1d(8, stride=2 ),\n",
        "            nn.LeakyReLU()\n",
        "            ) \n",
        "\n",
        "          self.conv2 = nn.Sequential(\n",
        "            \n",
        "            nn.Conv1d(32,64, 8, 2),\n",
        "            nn.BatchNorm1d(64),\n",
        "            nn.MaxPool1d(8, stride=2 ),\n",
        "            nn.LeakyReLU()\n",
        "            ) \n",
        "\n",
        "          self.conv3 = nn.Sequential(\n",
        "            nn.BatchNorm1d(64),\n",
        "            nn.MaxPool1d(8, stride=1 ),\n",
        "            nn.ReLU(),\n",
        "            nn.Dropout(),\n",
        "            nn.Conv1d(64,64, 4, 1 ),\n",
        "            nn.BatchNorm1d(64),\n",
        "            nn.MaxPool1d(8, stride=1 ),\n",
        "            nn.ReLU(),\n",
        "            nn.Conv1d(64,64, 4, 1 )\n",
        "            ) \n",
        "\n",
        "          self.conv4 = nn.Sequential(\n",
        "            nn.Conv1d(64,64,4,1),\n",
        "            nn.BatchNorm1d(64),\n",
        "            nn.MaxPool1d(8, stride=1 ),\n",
        "            nn.ReLU(),\n",
        "            nn.Conv1d(64,64, 4, 1 ),\n",
        "            nn.BatchNorm1d(64)\n",
        "            ) \n",
        "\n",
        "          self.conv5 = nn.Sequential(\n",
        "            nn.Conv1d(64,64,64,4),\n",
        "            nn.BatchNorm1d(64),\n",
        "            nn.MaxPool1d(8, stride=1 ),\n",
        "            nn.ReLU()\n",
        "            )\n",
        "\n",
        "          self.dp = nn.Dropout()\n",
        "          self.conv = nn.Conv1d(64,64, 128, 4)\n",
        "          self.bn = nn.BatchNorm1d(64)\n",
        "          self.relu = nn.ReLU()\n",
        "\n",
        "          self.flat = nn.Flatten()\n",
        "          self.fc = nn.Linear(14848, 2048)\n",
        "          self.fc1 = nn.Linear(2048, 512)\n",
        "          self.fc2 = nn.Linear(512, 64)\n",
        "          self.fc3 = nn.Linear(64,2)\n",
        "          \n",
        "    def forward(self, x):\n",
        "        \n",
        "        lay1 = self.conv1(x)\n",
        "        lay2 = self.conv2(lay1)\n",
        "        lay3 = self.conv4(lay2)\n",
        "        lay  = self.conv3(lay3)\n",
        "        lay  = self.conv3(lay)\n",
        "        lay  = self.conv3(lay)\n",
        "\n",
        "        # lay = layp + lay2\n",
        "        # for i in range(1,4):\n",
        "        #   lay = self.conv3(lay)\n",
        "        #   lay = lay +layp\n",
        "\n",
        "        out = self.bn(lay)\n",
        "        out = self.relu(out)\n",
        "        out = self.flat(out)\n",
        "        out = self.fc(out)\n",
        "        out = self.dp(out)\n",
        "        out = self.fc1(out)\n",
        "        # out = self.dp(out)\n",
        "        out = self.fc2(out)\n",
        "        # out = self.dp(out)\n",
        "        out = self.fc3(out)\n",
        "        \n",
        "        \n",
        "\n",
        "        return out"
      ],
      "execution_count": null,
      "outputs": []
    },
    {
      "cell_type": "code",
      "metadata": {
        "id": "iurXfujq2LsR",
        "colab_type": "code",
        "colab": {}
      },
      "source": [
        "\n",
        "model = Stress_Model()\n",
        "optimizer = torch.optim.Adam(model.parameters() ,lr = 0.0001 )\n",
        "criterion = nn.BCEWithLogitsLoss()"
      ],
      "execution_count": null,
      "outputs": []
    },
    {
      "cell_type": "code",
      "metadata": {
        "id": "sFDR3aEzXflx",
        "colab_type": "code",
        "colab": {
          "base_uri": "https://localhost:8080/",
          "height": 503
        },
        "outputId": "28902e4d-c3e4-4d89-8f95-e6bcdf5ea871"
      },
      "source": [
        "num_epochs = 50\n",
        "for epoch in range(num_epochs):\n",
        "    j = 0\n",
        "    cor = 0\n",
        "    running_loss = 0.0\n",
        "    for i, x in enumerate(train_files[0:2000]):  \n",
        "        # Move tensors to the configured device\n",
        "        # images = images.reshape(-1, 28*28).to(device)\n",
        "        # labels = labels.to(device)\n",
        "        data = sio.loadmat(x)['data']\n",
        "        step = 1/700\n",
        "        data = np.transpose(data)\n",
        "\n",
        "        # imfs = emd.sift.sift(data)\n",
        "\n",
        "        # inputs = []\n",
        "        # mean = np.mean(data)\n",
        "        # inputs.append(mean)\n",
        "        # std = np.std(data)\n",
        "        # inputs.append(std)\n",
        "        # H, c, data1 = compute_Hc(data, kind='change', simplified=True )\n",
        "        # inputs.append(H)\n",
        "        # sampentropy = sampen2(data)\n",
        "        # inputs.append(sampentropy[-1][1])\n",
        "\n",
        "\n",
        "        # mean1 = np.mean(imfs[:,0])\n",
        "        # inputs.append(mean1)\n",
        "        # std1 = np.std(imfs[:,0])\n",
        "        # inputs.append(std1)\n",
        "        # H1, c, data1 = compute_Hc(imfs[:,0], kind='change', simplified=True )\n",
        "        # inputs.append(H1)\n",
        "        # sampentropy1 = sampen2(imfs[:,0])\n",
        "        # inputs.append(sampentropy1[-1][1])\n",
        "\n",
        "\n",
        "        # mean2 = np.mean(imfs[:,1])\n",
        "        # inputs.append(mean2)\n",
        "        # std2 = np.std(imfs[:,1])\n",
        "        # inputs.append(std2)\n",
        "        # H2, c, data1 = compute_Hc(imfs[:,1], kind='change', simplified=True )\n",
        "        # inputs.append(H2)\n",
        "        # sampentropy2 = sampen2(imfs[:,1])\n",
        "        # inputs.append(sampentropy2[-1][1])\n",
        "        \n",
        "        inputs = torch.tensor(data, dtype = torch.float32)\n",
        "        inputs = inputs.reshape((1,1,5000))\n",
        "\n",
        "        labels = file_to_label[x]\n",
        "        labels = labels.reshape((1,2))\n",
        "        # Forward pass\n",
        "        outputs = model(inputs)\n",
        "        loss = criterion(outputs, labels)\n",
        "        \n",
        "        # Backward and optimize\n",
        "        optimizer.zero_grad()\n",
        "        loss.backward()\n",
        "        optimizer.step()\n",
        "        \n",
        "        running_loss += loss.item()\n",
        "        \n",
        "        if (torch.argmax(labels) == torch.argmax(outputs)):\n",
        "           cor = cor+1\n",
        "        j = j+1\n",
        "    print('Epoch: {} | Loss: {} | Acc: {}'.format(epoch, running_loss/2000, cor/2000))\n"
      ],
      "execution_count": null,
      "outputs": [
        {
          "output_type": "stream",
          "text": [
            "Epoch: 0 | Loss: 0.16639488681175169 | Acc: 0.9315\n",
            "Epoch: 1 | Loss: 0.14497877302522072 | Acc: 0.948\n",
            "Epoch: 2 | Loss: 0.13912722988150694 | Acc: 0.952\n",
            "Epoch: 3 | Loss: 0.13876000953186923 | Acc: 0.9495\n",
            "Epoch: 4 | Loss: 0.12297266596183795 | Acc: 0.9585\n",
            "Epoch: 5 | Loss: 0.11142356521980869 | Acc: 0.961\n"
          ],
          "name": "stdout"
        },
        {
          "output_type": "error",
          "ename": "KeyboardInterrupt",
          "evalue": "ignored",
          "traceback": [
            "\u001b[0;31m---------------------------------------------------------------------------\u001b[0m",
            "\u001b[0;31mKeyboardInterrupt\u001b[0m                         Traceback (most recent call last)",
            "\u001b[0;32m<ipython-input-17-08a7cccc9641>\u001b[0m in \u001b[0;36m<module>\u001b[0;34m()\u001b[0m\n\u001b[1;32m     56\u001b[0m         \u001b[0moptimizer\u001b[0m\u001b[0;34m.\u001b[0m\u001b[0mzero_grad\u001b[0m\u001b[0;34m(\u001b[0m\u001b[0;34m)\u001b[0m\u001b[0;34m\u001b[0m\u001b[0;34m\u001b[0m\u001b[0m\n\u001b[1;32m     57\u001b[0m         \u001b[0mloss\u001b[0m\u001b[0;34m.\u001b[0m\u001b[0mbackward\u001b[0m\u001b[0;34m(\u001b[0m\u001b[0;34m)\u001b[0m\u001b[0;34m\u001b[0m\u001b[0;34m\u001b[0m\u001b[0m\n\u001b[0;32m---> 58\u001b[0;31m         \u001b[0moptimizer\u001b[0m\u001b[0;34m.\u001b[0m\u001b[0mstep\u001b[0m\u001b[0;34m(\u001b[0m\u001b[0;34m)\u001b[0m\u001b[0;34m\u001b[0m\u001b[0;34m\u001b[0m\u001b[0m\n\u001b[0m\u001b[1;32m     59\u001b[0m \u001b[0;34m\u001b[0m\u001b[0m\n\u001b[1;32m     60\u001b[0m         \u001b[0mrunning_loss\u001b[0m \u001b[0;34m+=\u001b[0m \u001b[0mloss\u001b[0m\u001b[0;34m.\u001b[0m\u001b[0mitem\u001b[0m\u001b[0;34m(\u001b[0m\u001b[0;34m)\u001b[0m\u001b[0;34m\u001b[0m\u001b[0;34m\u001b[0m\u001b[0m\n",
            "\u001b[0;32m/usr/local/lib/python3.6/dist-packages/torch/autograd/grad_mode.py\u001b[0m in \u001b[0;36mdecorate_context\u001b[0;34m(*args, **kwargs)\u001b[0m\n\u001b[1;32m     13\u001b[0m         \u001b[0;32mdef\u001b[0m \u001b[0mdecorate_context\u001b[0m\u001b[0;34m(\u001b[0m\u001b[0;34m*\u001b[0m\u001b[0margs\u001b[0m\u001b[0;34m,\u001b[0m \u001b[0;34m**\u001b[0m\u001b[0mkwargs\u001b[0m\u001b[0;34m)\u001b[0m\u001b[0;34m:\u001b[0m\u001b[0;34m\u001b[0m\u001b[0;34m\u001b[0m\u001b[0m\n\u001b[1;32m     14\u001b[0m             \u001b[0;32mwith\u001b[0m \u001b[0mself\u001b[0m\u001b[0;34m:\u001b[0m\u001b[0;34m\u001b[0m\u001b[0;34m\u001b[0m\u001b[0m\n\u001b[0;32m---> 15\u001b[0;31m                 \u001b[0;32mreturn\u001b[0m \u001b[0mfunc\u001b[0m\u001b[0;34m(\u001b[0m\u001b[0;34m*\u001b[0m\u001b[0margs\u001b[0m\u001b[0;34m,\u001b[0m \u001b[0;34m**\u001b[0m\u001b[0mkwargs\u001b[0m\u001b[0;34m)\u001b[0m\u001b[0;34m\u001b[0m\u001b[0;34m\u001b[0m\u001b[0m\n\u001b[0m\u001b[1;32m     16\u001b[0m         \u001b[0;32mreturn\u001b[0m \u001b[0mdecorate_context\u001b[0m\u001b[0;34m\u001b[0m\u001b[0;34m\u001b[0m\u001b[0m\n\u001b[1;32m     17\u001b[0m \u001b[0;34m\u001b[0m\u001b[0m\n",
            "\u001b[0;32m/usr/local/lib/python3.6/dist-packages/torch/optim/adam.py\u001b[0m in \u001b[0;36mstep\u001b[0;34m(self, closure)\u001b[0m\n\u001b[1;32m    105\u001b[0m                     \u001b[0mdenom\u001b[0m \u001b[0;34m=\u001b[0m \u001b[0;34m(\u001b[0m\u001b[0mmax_exp_avg_sq\u001b[0m\u001b[0;34m.\u001b[0m\u001b[0msqrt\u001b[0m\u001b[0;34m(\u001b[0m\u001b[0;34m)\u001b[0m \u001b[0;34m/\u001b[0m \u001b[0mmath\u001b[0m\u001b[0;34m.\u001b[0m\u001b[0msqrt\u001b[0m\u001b[0;34m(\u001b[0m\u001b[0mbias_correction2\u001b[0m\u001b[0;34m)\u001b[0m\u001b[0;34m)\u001b[0m\u001b[0;34m.\u001b[0m\u001b[0madd_\u001b[0m\u001b[0;34m(\u001b[0m\u001b[0mgroup\u001b[0m\u001b[0;34m[\u001b[0m\u001b[0;34m'eps'\u001b[0m\u001b[0;34m]\u001b[0m\u001b[0;34m)\u001b[0m\u001b[0;34m\u001b[0m\u001b[0;34m\u001b[0m\u001b[0m\n\u001b[1;32m    106\u001b[0m                 \u001b[0;32melse\u001b[0m\u001b[0;34m:\u001b[0m\u001b[0;34m\u001b[0m\u001b[0;34m\u001b[0m\u001b[0m\n\u001b[0;32m--> 107\u001b[0;31m                     \u001b[0mdenom\u001b[0m \u001b[0;34m=\u001b[0m \u001b[0;34m(\u001b[0m\u001b[0mexp_avg_sq\u001b[0m\u001b[0;34m.\u001b[0m\u001b[0msqrt\u001b[0m\u001b[0;34m(\u001b[0m\u001b[0;34m)\u001b[0m \u001b[0;34m/\u001b[0m \u001b[0mmath\u001b[0m\u001b[0;34m.\u001b[0m\u001b[0msqrt\u001b[0m\u001b[0;34m(\u001b[0m\u001b[0mbias_correction2\u001b[0m\u001b[0;34m)\u001b[0m\u001b[0;34m)\u001b[0m\u001b[0;34m.\u001b[0m\u001b[0madd_\u001b[0m\u001b[0;34m(\u001b[0m\u001b[0mgroup\u001b[0m\u001b[0;34m[\u001b[0m\u001b[0;34m'eps'\u001b[0m\u001b[0;34m]\u001b[0m\u001b[0;34m)\u001b[0m\u001b[0;34m\u001b[0m\u001b[0;34m\u001b[0m\u001b[0m\n\u001b[0m\u001b[1;32m    108\u001b[0m \u001b[0;34m\u001b[0m\u001b[0m\n\u001b[1;32m    109\u001b[0m                 \u001b[0mstep_size\u001b[0m \u001b[0;34m=\u001b[0m \u001b[0mgroup\u001b[0m\u001b[0;34m[\u001b[0m\u001b[0;34m'lr'\u001b[0m\u001b[0;34m]\u001b[0m \u001b[0;34m/\u001b[0m \u001b[0mbias_correction1\u001b[0m\u001b[0;34m\u001b[0m\u001b[0;34m\u001b[0m\u001b[0m\n",
            "\u001b[0;31mKeyboardInterrupt\u001b[0m: "
          ]
        }
      ]
    },
    {
      "cell_type": "code",
      "metadata": {
        "id": "AhGS0Us3FbC8",
        "colab_type": "code",
        "colab": {
          "base_uri": "https://localhost:8080/",
          "height": 282
        },
        "outputId": "d9a26144-d5a7-4fd6-e6c7-548c3f9945f5"
      },
      "source": [
        "losses = [0.166,0.144,0.139, 0.138,0.122,0.111]\n",
        "epoch = np.arange(1,7,1)\n",
        "plt.plot(epoch,losses)"
      ],
      "execution_count": null,
      "outputs": [
        {
          "output_type": "execute_result",
          "data": {
            "text/plain": [
              "[<matplotlib.lines.Line2D at 0x7f8ed84180f0>]"
            ]
          },
          "metadata": {
            "tags": []
          },
          "execution_count": 56
        },
        {
          "output_type": "display_data",
          "data": {
            "image/png": "[encoded data removed]",
            "text/plain": [
              "<Figure size 432x288 with 1 Axes>"
            ]
          },
          "metadata": {
            "tags": [],
            "needs_background": "light"
          }
        }
      ]
    },
    {
      "cell_type": "code",
      "metadata": {
        "id": "7rkux4498C3d",
        "colab_type": "code",
        "colab": {
          "base_uri": "https://localhost:8080/",
          "height": 35
        },
        "outputId": "cdf6d498-427d-46f3-8e36-921672a8aaf3"
      },
      "source": [
        "model = Stress_Model()\n",
        "model.load_state_dict(torch.load('/content/drive/My Drive/Minor_1/final_model1') )"
      ],
      "execution_count": null,
      "outputs": [
        {
          "output_type": "execute_result",
          "data": {
            "text/plain": [
              "<All keys matched successfully>"
            ]
          },
          "metadata": {
            "tags": []
          },
          "execution_count": 57
        }
      ]
    },
    {
      "cell_type": "code",
      "metadata": {
        "id": "-64nHgsIm63_",
        "colab_type": "code",
        "colab": {
          "base_uri": "https://localhost:8080/",
          "height": 35
        },
        "outputId": "c62c53ed-8019-4373-a019-89f7c530467e"
      },
      "source": [
        "with torch.no_grad():\n",
        "    correct = 0\n",
        "    ytrue = []\n",
        "    ypred = []\n",
        "    total = 0\n",
        "    for x in test_files:\n",
        "        data = sio.loadmat(x)['data']\n",
        "        step = 1/700\n",
        "        data = np.transpose(data)\n",
        "        inputs = torch.tensor(data, dtype = torch.float32)\n",
        "        inputs = inputs.reshape((1,1,5000))\n",
        "\n",
        "        labels = file_to_label[x]\n",
        "        labels = labels.reshape((1,2))\n",
        "        labels = file_to_label[x]\n",
        "        labels = labels.reshape((1,2))\n",
        "        outputs = model(inputs)\n",
        "        # loss = criterion(outputs, labels)\n",
        "        # running_loss+=loss\n",
        "        # print(outputs.argmax())\n",
        "        # print(loss)\n",
        "        ytrue.append(labels.argmax())\n",
        "        ypred.append(outputs.argmax())\n",
        "        total += 1\n",
        "        if (labels.argmax() == outputs.argmax()):\n",
        "          correct+=1\n",
        "\n",
        "    print('Accuracy of the network: {} %'.format(100 * correct / total))\n"
      ],
      "execution_count": null,
      "outputs": [
        {
          "output_type": "stream",
          "text": [
            "Accuracy of the network: 96.36363636363636 %\n"
          ],
          "name": "stdout"
        }
      ]
    },
    {
      "cell_type": "code",
      "metadata": {
        "id": "Lfe_vQJJi5PS",
        "colab_type": "code",
        "colab": {}
      },
      "source": [
        "torch.save(model.state_dict(), '/content/drive/My Drive/Minor_1/final_model1')"
      ],
      "execution_count": null,
      "outputs": []
    },
    {
      "cell_type": "code",
      "metadata": {
        "id": "k8kzp7hJqMAw",
        "colab_type": "code",
        "colab": {}
      },
      "source": [
        "from sklearn import metrics\n"
      ],
      "execution_count": null,
      "outputs": []
    },
    {
      "cell_type": "code",
      "metadata": {
        "id": "d5UGcwhvee0K",
        "colab_type": "code",
        "colab": {
          "base_uri": "https://localhost:8080/",
          "height": 35
        },
        "outputId": "a974ca0d-d7f0-41d3-ab10-23372af07cca"
      },
      "source": [
        "metrics.accuracy_score(ytrue,ypred)"
      ],
      "execution_count": null,
      "outputs": [
        {
          "output_type": "execute_result",
          "data": {
            "text/plain": [
              "0.9636363636363636"
            ]
          },
          "metadata": {
            "tags": []
          },
          "execution_count": 20
        }
      ]
    },
    {
      "cell_type": "code",
      "metadata": {
        "id": "AkF-Qf-ypUnk",
        "colab_type": "code",
        "colab": {}
      },
      "source": [
        ""
      ],
      "execution_count": null,
      "outputs": []
    },
    {
      "cell_type": "code",
      "metadata": {
        "id": "8mTgM7etej2o",
        "colab_type": "code",
        "colab": {
          "base_uri": "https://localhost:8080/",
          "height": 35
        },
        "outputId": "651391d9-741c-48c0-d320-21ebd5ca81f0"
      },
      "source": [
        "metrics.precision_score(ytrue,ypred)"
      ],
      "execution_count": null,
      "outputs": [
        {
          "output_type": "execute_result",
          "data": {
            "text/plain": [
              "0.9903846153846154"
            ]
          },
          "metadata": {
            "tags": []
          },
          "execution_count": 23
        }
      ]
    },
    {
      "cell_type": "code",
      "metadata": {
        "id": "fCLDLIo5ez4b",
        "colab_type": "code",
        "colab": {
          "base_uri": "https://localhost:8080/",
          "height": 35
        },
        "outputId": "19ddfd73-29f9-4f12-8d7e-cf06a7985fe6"
      },
      "source": [
        "metrics.recall_score(ytrue,ypred)"
      ],
      "execution_count": null,
      "outputs": [
        {
          "output_type": "execute_result",
          "data": {
            "text/plain": [
              "0.9363636363636364"
            ]
          },
          "metadata": {
            "tags": []
          },
          "execution_count": 24
        }
      ]
    },
    {
      "cell_type": "code",
      "metadata": {
        "id": "6Py9dXdBfjet",
        "colab_type": "code",
        "colab": {
          "base_uri": "https://localhost:8080/",
          "height": 35
        },
        "outputId": "b2465d73-b992-42f6-ff10-5159083465d7"
      },
      "source": [
        "metrics.f1_score(ytrue,ypred)"
      ],
      "execution_count": null,
      "outputs": [
        {
          "output_type": "execute_result",
          "data": {
            "text/plain": [
              "0.9626168224299064"
            ]
          },
          "metadata": {
            "tags": []
          },
          "execution_count": 25
        }
      ]
    },
    {
      "cell_type": "code",
      "metadata": {
        "id": "_w8YnOPjftX2",
        "colab_type": "code",
        "colab": {
          "base_uri": "https://localhost:8080/",
          "height": 35
        },
        "outputId": "55e6eeef-e807-4f7f-a770-c51779f3e247"
      },
      "source": [
        "metrics.roc_auc_score( ytrue, ypred )"
      ],
      "execution_count": null,
      "outputs": [
        {
          "output_type": "execute_result",
          "data": {
            "text/plain": [
              "0.9636363636363637"
            ]
          },
          "metadata": {
            "tags": []
          },
          "execution_count": 27
        }
      ]
    },
    {
      "cell_type": "code",
      "metadata": {
        "id": "Rr9q9BYjgoJs",
        "colab_type": "code",
        "colab": {}
      },
      "source": [
        "metrics.ConfusionMatrixDisplay( )"
      ],
      "execution_count": null,
      "outputs": []
    },
    {
      "cell_type": "code",
      "metadata": {
        "id": "eylD0CYUgxTD",
        "colab_type": "code",
        "colab": {}
      },
      "source": [
        "confusion = metrics.confusion_matrix(ytrue,ypred)"
      ],
      "execution_count": null,
      "outputs": []
    },
    {
      "cell_type": "code",
      "metadata": {
        "id": "Oh1GIz6-g7Zm",
        "colab_type": "code",
        "colab": {
          "base_uri": "https://localhost:8080/",
          "height": 52
        },
        "outputId": "e19a0956-a798-492f-f5be-6777efb9b13f"
      },
      "source": [
        "confusion\n"
      ],
      "execution_count": null,
      "outputs": [
        {
          "output_type": "execute_result",
          "data": {
            "text/plain": [
              "array([[218,   2],\n",
              "       [ 14, 206]])"
            ]
          },
          "metadata": {
            "tags": []
          },
          "execution_count": 53
        }
      ]
    },
    {
      "cell_type": "code",
      "metadata": {
        "id": "63IvRzNlhFhd",
        "colab_type": "code",
        "colab": {
          "base_uri": "https://localhost:8080/",
          "height": 173
        },
        "outputId": "3ab917aa-f0a8-4af8-dcc0-a00795791f6e"
      },
      "source": [
        "print(metrics.classification_report(ytrue,ypred,labels = [0,1]))"
      ],
      "execution_count": null,
      "outputs": [
        {
          "output_type": "stream",
          "text": [
            "              precision    recall  f1-score   support\n",
            "\n",
            "           0       0.94      0.99      0.96       220\n",
            "           1       0.99      0.94      0.96       220\n",
            "\n",
            "    accuracy                           0.96       440\n",
            "   macro avg       0.97      0.96      0.96       440\n",
            "weighted avg       0.97      0.96      0.96       440\n",
            "\n"
          ],
          "name": "stdout"
        }
      ]
    },
    {
      "cell_type": "code",
      "metadata": {
        "id": "dkWjV1BylQ3b",
        "colab_type": "code",
        "colab": {
          "base_uri": "https://localhost:8080/",
          "height": 35
        },
        "outputId": "005de4c3-e57f-48f7-d84a-ad8421b79ab5"
      },
      "source": [
        "with torch.no_grad():\n",
        "    correct = 0\n",
        "    # ytrue = []\n",
        "    # ypred = []\n",
        "    total = 0\n",
        "    for x in normal_files[1000:1100]:\n",
        "        data = sio.loadmat(x)['data']\n",
        "        step = 1/700\n",
        "        data = np.transpose(data)\n",
        "        inputs = torch.tensor(data, dtype = torch.float32)\n",
        "        inputs = inputs.reshape((1,1,5000))\n",
        "\n",
        "        labels = file_to_label[x]\n",
        "        labels = labels.reshape((1,2))\n",
        "        labels = file_to_label[x]\n",
        "        labels = labels.reshape((1,2))\n",
        "        outputs = model(inputs)\n",
        "        # loss = criterion(outputs, labels)\n",
        "        # running_loss+=loss\n",
        "        # print(outputs.argmax())\n",
        "        # print(loss)\n",
        "        # ytrue.append(labels.argmax())\n",
        "        # ypred.append(outputs.argmax())\n",
        "        total += 1\n",
        "        if (labels.argmax() == outputs.argmax()):\n",
        "          correct+=1\n",
        "\n",
        "    print('Accuracy of the network: {} %'.format(100 * correct / total))\n"
      ],
      "execution_count": null,
      "outputs": [
        {
          "output_type": "stream",
          "text": [
            "Accuracy of the network: 96.0 %\n"
          ],
          "name": "stdout"
        }
      ]
    },
    {
      "cell_type": "code",
      "metadata": {
        "id": "vW1kXxhQlqjV",
        "colab_type": "code",
        "colab": {
          "base_uri": "https://localhost:8080/",
          "height": 35
        },
        "outputId": "141dfd4a-7d13-450b-da17-8f61f29af85a"
      },
      "source": [
        "correct, total"
      ],
      "execution_count": null,
      "outputs": [
        {
          "output_type": "execute_result",
          "data": {
            "text/plain": [
              "(96, 100)"
            ]
          },
          "metadata": {
            "tags": []
          },
          "execution_count": 52
        }
      ]
    },
    {
      "cell_type": "code",
      "metadata": {
        "id": "3CTwjFSnmMWL",
        "colab_type": "code",
        "colab": {
          "base_uri": "https://localhost:8080/",
          "height": 1000
        },
        "outputId": "967542b7-0897-4f95-d3d7-b6c76924e989"
      },
      "source": [
        "from torchsummary import summary\n",
        "\n",
        "summary(model, input_size=(1,5000))\n"
      ],
      "execution_count": null,
      "outputs": [
        {
          "output_type": "stream",
          "text": [
            "----------------------------------------------------------------\n",
            "        Layer (type)               Output Shape         Param #\n",
            "================================================================\n",
            "            Conv1d-1             [-1, 32, 2485]           1,056\n",
            "       BatchNorm1d-2             [-1, 32, 2485]              64\n",
            "         MaxPool1d-3             [-1, 32, 1239]               0\n",
            "         LeakyReLU-4             [-1, 32, 1239]               0\n",
            "            Conv1d-5              [-1, 64, 616]          16,448\n",
            "       BatchNorm1d-6              [-1, 64, 616]             128\n",
            "         MaxPool1d-7              [-1, 64, 305]               0\n",
            "         LeakyReLU-8              [-1, 64, 305]               0\n",
            "            Conv1d-9              [-1, 64, 302]          16,448\n",
            "      BatchNorm1d-10              [-1, 64, 302]             128\n",
            "        MaxPool1d-11              [-1, 64, 295]               0\n",
            "             ReLU-12              [-1, 64, 295]               0\n",
            "           Conv1d-13              [-1, 64, 292]          16,448\n",
            "      BatchNorm1d-14              [-1, 64, 292]             128\n",
            "      BatchNorm1d-15              [-1, 64, 292]             128\n",
            "        MaxPool1d-16              [-1, 64, 285]               0\n",
            "             ReLU-17              [-1, 64, 285]               0\n",
            "          Dropout-18              [-1, 64, 285]               0\n",
            "           Conv1d-19              [-1, 64, 282]          16,448\n",
            "      BatchNorm1d-20              [-1, 64, 282]             128\n",
            "        MaxPool1d-21              [-1, 64, 275]               0\n",
            "             ReLU-22              [-1, 64, 275]               0\n",
            "           Conv1d-23              [-1, 64, 272]          16,448\n",
            "      BatchNorm1d-24              [-1, 64, 272]             128\n",
            "        MaxPool1d-25              [-1, 64, 265]               0\n",
            "             ReLU-26              [-1, 64, 265]               0\n",
            "          Dropout-27              [-1, 64, 265]               0\n",
            "           Conv1d-28              [-1, 64, 262]          16,448\n",
            "      BatchNorm1d-29              [-1, 64, 262]             128\n",
            "        MaxPool1d-30              [-1, 64, 255]               0\n",
            "             ReLU-31              [-1, 64, 255]               0\n",
            "           Conv1d-32              [-1, 64, 252]          16,448\n",
            "      BatchNorm1d-33              [-1, 64, 252]             128\n",
            "        MaxPool1d-34              [-1, 64, 245]               0\n",
            "             ReLU-35              [-1, 64, 245]               0\n",
            "          Dropout-36              [-1, 64, 245]               0\n",
            "           Conv1d-37              [-1, 64, 242]          16,448\n",
            "      BatchNorm1d-38              [-1, 64, 242]             128\n",
            "        MaxPool1d-39              [-1, 64, 235]               0\n",
            "             ReLU-40              [-1, 64, 235]               0\n",
            "           Conv1d-41              [-1, 64, 232]          16,448\n",
            "      BatchNorm1d-42              [-1, 64, 232]             128\n",
            "             ReLU-43              [-1, 64, 232]               0\n",
            "          Flatten-44                [-1, 14848]               0\n",
            "           Linear-45                 [-1, 2048]      30,410,752\n",
            "          Dropout-46                 [-1, 2048]               0\n",
            "           Linear-47                  [-1, 512]       1,049,088\n",
            "           Linear-48                   [-1, 64]          32,832\n",
            "           Linear-49                    [-1, 2]             130\n",
            "================================================================\n",
            "Total params: 31,643,234\n",
            "Trainable params: 31,643,234\n",
            "Non-trainable params: 0\n",
            "----------------------------------------------------------------\n",
            "Input size (MB): 0.02\n",
            "Forward/backward pass size (MB): 7.41\n",
            "Params size (MB): 120.71\n",
            "Estimated Total Size (MB): 128.14\n",
            "----------------------------------------------------------------\n"
          ],
          "name": "stdout"
        }
      ]
    },
    {
      "cell_type": "code",
      "metadata": {
        "id": "BHqzNXDVOwM1",
        "colab_type": "code",
        "colab": {}
      },
      "source": [
        ""
      ],
      "execution_count": null,
      "outputs": []
    }
  ]
}